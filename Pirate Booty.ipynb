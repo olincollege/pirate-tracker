{
 "cells": [
  {
   "cell_type": "markdown",
   "metadata": {},
   "source": [
    "---\n",
    "title: Pirate Booty\n",
    "authors: Hong Zhang, Samuel Bloom\n",
    "---"
   ]
  },
  {
   "cell_type": "markdown",
   "metadata": {},
   "source": [
    "## **Introduction** ##\n",
    "<hr>\n",
    "This project takes all the pirate attacks over the course of a year and analyzes them based on location and description. Based on these attributes, we can decipher the results of many pirate attacks, which areas are most susceptible, and better understand what specifically drives pirates to steal certain materials.\n",
    "\n",
    "By using online resources (data found through APIs and PDFs), we can visualize the pirate attacks across the globe, what results typically spur from pirate attacks, and much of the nature of piracy. Using nearby port exports and imports, we can further understand what specifically pirates are stealing, and if they are related to many of the goods these ships are carrying.\n",
    "\n"
   ]
  },
  {
   "cell_type": "markdown",
   "metadata": {},
   "source": [
    "```{python}\n",
    "pip install -r ~/pirate-tracker/Home/requirements.txt\n",
    "```\n"
   ]
  },
  {
   "cell_type": "code",
   "execution_count": 8,
   "metadata": {},
   "outputs": [],
   "source": [
    "import geodatasets\n",
    "import geopandas\n",
    "import matplotlib\n",
    "import pandas\n",
    "import pdfplumber\n",
    "import regex"
   ]
  },
  {
   "cell_type": "markdown",
   "metadata": {},
   "source": [
    "Also, make sure to run the code below to complete functionality of the code:"
   ]
  },
  {
   "cell_type": "code",
   "execution_count": 9,
   "metadata": {},
   "outputs": [
    {
     "name": "stdout",
     "output_type": "stream",
     "text": [
      "The autoreload extension is already loaded. To reload it, use:\n",
      "  %reload_ext autoreload\n"
     ]
    }
   ],
   "source": [
    "%load_ext autoreload\n",
    "%autoreload 2"
   ]
  },
  {
   "cell_type": "markdown",
   "metadata": {},
   "source": [
    "## **Methodology**\n",
    "<hr>"
   ]
  },
  {
   "cell_type": "markdown",
   "metadata": {},
   "source": [
    "### **Visualizing Pirate Attacks Across the Globe** ###\n",
    "Through the usage of online resources, we were able to find both an API that will allow us to collect information on various port data (exports and imports), and also found a PDF from online (https://www.recaap.org/) that provided us with information on pirate attacks over the course of the 2024 year. Given this information, we were able to use an online library, `fitz`, to help digest this information. This online library helps process text block by block, in favor a line by line solution. This is important because it allows us to help analyze the **description** of the function by testing different phrases against it (*a later problem*).\n",
    "\n",
    "By processing the data through a function that calls `fitz`, `regex`, and `pandas` - libraries of which digest text, analyze structure, and sort into dataframes respectively - we were provided with `pirate_locations.csv`. The columns of the CSV are as follows:\n",
    "\n",
    "* Index of Incident\n",
    "* Latitude\n",
    "* Longitude \n",
    "* Area Location\n",
    "\n",
    "Given this CSV file, of which contains **107 entries**, we can then store these dataframes in empty lists and run operations over said lists. For example, we had to prepare our latitude and longitude data through conversions of **DMS** format (direction, minute, seconds) to degrees, a value that is easier to process and plot. After converting each coordinate point, we had matched each latitude with each respective longitude. Below are some of the coordinates:"
   ]
  },
  {
   "cell_type": "code",
   "execution_count": 10,
   "metadata": {},
   "outputs": [
    {
     "name": "stdout",
     "output_type": "stream",
     "text": [
      "[(3.9325, 98.73966666666666), (1.0546666666666666, 103.67116666666666), (1.0625, 103.6635), (14.5455, 120.868), (9.983333333333333, 107.06666666666666), (1.0801666666666667, 103.69833333333334), (1.075, 103.58166666666666), (1.4241666666666666, 104.50916666666667), (1.0758333333333334, 103.69366666666667), (1.0583333333333333, 103.66333333333333), (1.061, 103.66416666666667), (1.0666666666666667, 103.67333333333333), (3.788333333333333, 98.7025), (1.1336666666666666, 103.75666666666666), (1.0861666666666667, 103.727), (1.065, 103.68833333333333), (1.0616666666666668, 103.70166666666667), (21.390666666666668, 91.8105), (1.0783333333333334, 103.695), (1.0966666666666667, 103.735), (21.866666666666667, 91.75), (1.0583333333333333, 103.61833333333334), (1.0476666666666667, 103.63933333333334), (1.0455, 103.64666666666666), (1.0455, 103.64666666666666), (1.0703333333333334, 103.68616666666667), (1.0433333333333334, 103.65166666666667), (1.1371666666666667, 103.7565), (1.1333333333333333, 103.70616666666666), (1.0696666666666668, 103.5055), (1.0863333333333334, 103.49033333333334), (1.1313333333333333, 98.8), (1.1305, 105.2875), (3.8983333333333334, 91.79833333333333), (-5.5008333333333335, 103.718), (21.811666666666667, 103.72833333333334), (1.079, 113.827), (1.0933333333333333, 103.6475), (-4.203833333333334, 104.03083333333333), (1.2541666666666667, 103.61783333333334), (1.2541666666666667, 104.03083333333333), (1.0696666666666668, 104.14366666666666), (1.2541666666666667, 103.71333333333334), (1.2836666666666667, 103.63833333333334), (1.08, 104.19166666666666), (1.0516666666666667, 103.96166666666667), (1.2571666666666665, 103.67666666666666), (1.1615, 103.66833333333334), (1.0583333333333333, 103.71833333333333), (1.0633333333333332, 99.45), (1.0933333333333333, 103.72), (3.4333333333333336, 103.65766666666667), (1.0833333333333333, 103.4785), (1.2683333333333333, 104.17666666666666), (1.0596666666666668, 104.05833333333334), (1.1746666666666667, 103.6395), (1.115, 91.73333333333333), (1.2416666666666667, 103.625), (1.0416666666666667, 103.48166666666667), (22.316666666666666, 103.97566666666667), (1.0566666666666666, 107.05), (1.1383333333333334, 103.455), (1.1578333333333333, 101.48333333333333), (10.2, 104.52283333333334), (1.1566666666666667, 103.66166666666666), (1.7, 101.46666666666667), (1.5026666666666668, 91.71666666666667), (1.0466666666666666, 120.8445), (1.7, 98.74683333333333), (22.283333333333335, 104.26283333333333), (14.594833333333334, 103.67866666666667), (3.9196666666666666, 116.79883333333333), (1.3098333333333334, 91.11666666666666), (1.0745, 104.26283333333333), (-1.2993333333333332, 99.47033333333333), (21.15, 91.7), (1.3098333333333334, 103.65366666666667), (3.3718333333333335, 91.79833333333333), (22.233333333333334, 103.233), (1.0571666666666666, 103.6705), (21.811666666666667, 103.74916666666667), (1.4058333333333333, 103.525), (1.0555, 89.53033333333333), (1.1113333333333333, 103.98333333333333), (1.1271666666666667, 101.36666666666666), (21.84883333333333, 105.28833333333333), (1.1933333333333334, 103.48583333333333), (1.7666666666666666, 91.71333333333334), (-5.493333333333333, 91.75), (1.138, 103.47266666666667), (21.816666666666666, 91.77333333333333), (21.883333333333333, 120.8), (1.1591666666666667, 113.35), (22.163333333333334, 103.65833333333333), (14.383333333333333, 101.40833333333333), (-3.6298333333333335, 82.36066666666666), (1.0433333333333334, 82.41116666666667), (1.7181666666666668, 91.69733333333333), (17.032333333333334, 101.42866666666667), (17.057, 103.69633333333333), (21.841666666666665, 103.66666666666667), (1.7215, 101.49366666666667), (1.0623333333333334, 103.675), (1.0666666666666667, 116.995)]\n"
     ]
    }
   ],
   "source": [
    "from pdf_to_visuals import sorting_into_df\n",
    "from pdf_to_visuals import dms_to_decimal_coordinates\n",
    "\n",
    "index_list, latitude_list, longitude_list, area_list = sorting_into_df(\"pirate_locations.csv\")\n",
    "decimal_coordinates_final = dms_to_decimal_coordinates(\n",
    "    latitude_list, longitude_list\n",
    ")"
   ]
  },
  {
   "cell_type": "markdown",
   "metadata": {},
   "source": [
    "Through this conversion, and accessing an online library through a variety of online libraries - `Geopandas`, `Geodatasets`, `Shapely`, some of the previous libraries accessed (`regex`) - we were then able to visualize our specific pirate attack incidents over a world map. Given this same data, we had also specifically zoomed in on areas around Southeast Asia, a hotspot for real-world piracy for further context.\n",
    "\n",
    "**P.S. If you are interested in learning about what the specific functions do, look to the docstrings where each libraries usage is explained**\n",
    "\n"
   ]
  },
  {
   "cell_type": "markdown",
   "metadata": {},
   "source": [
    "### **Visualizing Phrases Associated with the Outcomes of Real-World Piracy** ###"
   ]
  },
  {
   "cell_type": "markdown",
   "metadata": {},
   "source": []
  },
  {
   "cell_type": "markdown",
   "metadata": {},
   "source": [
    "# **Results** #\n",
    "<hr>"
   ]
  },
  {
   "cell_type": "markdown",
   "metadata": {},
   "source": [
    "Given the completed functions, and libraries all downloaded/imported from `requirements.txt`, we can visualize all of our data:"
   ]
  },
  {
   "cell_type": "code",
   "execution_count": null,
   "metadata": {},
   "outputs": [],
   "source": []
  },
  {
   "cell_type": "markdown",
   "metadata": {},
   "source": [
    "# **Interpretation** #\n",
    "<hr>"
   ]
  },
  {
   "cell_type": "code",
   "execution_count": 3,
   "metadata": {},
   "outputs": [
    {
     "name": "stdout",
     "output_type": "stream",
     "text": [
      "\n",
      "Top 20 contextual phrases:\n",
      "\"the crew was not injured\": 36\n",
      "\"crew members were accounted for\": 20\n",
      "\"all crew members were accounted\": 19\n",
      "\"sighted in the engine room\": 17\n",
      "\"were sighted in the engine\": 16\n",
      "\"crew mustered to conduct a\": 15\n",
      "\"in the engine room the\": 15\n",
      "\"crew was not injured the\": 15\n",
      "\"all crew mustered to conduct\": 11\n",
      "\"and all crew mustered to\": 10\n",
      "\"all crew members were safe\": 10\n",
      "\"the engine room the master\": 9\n",
      "\"stolen the master reported the\": 9\n",
      "\"engine room the master raised\": 9\n",
      "\"was raised and all crew\": 9\n",
      "\"alarm was raised and crew\": 9\n",
      "\"raised and all crew mustered\": 9\n",
      "\"engine spare parts were stolen\": 8\n",
      "\"alarm and mustered the crew\": 8\n",
      "\"was not injured the master\": 8\n"
     ]
    }
   ],
   "source": [
    "from phrase_counter import extract_top_contextual_phrases\n",
    "\n",
    "df = extract_top_contextual_phrases(\"incident_descriptions.txt\")"
   ]
  },
  {
   "cell_type": "code",
   "execution_count": null,
   "metadata": {},
   "outputs": [
    {
     "ename": "",
     "evalue": "",
     "output_type": "error",
     "traceback": [
      "\u001b[1;31mRunning cells with 'base (Python 3.12.7)' requires the ipykernel package.\n",
      "\u001b[1;31mRun the following command to install 'ipykernel' into the Python environment. \n",
      "\u001b[1;31mCommand: 'conda install -n base ipykernel --update-deps --force-reinstall'"
     ]
    }
   ],
   "source": [
    "from wordcloud import WordCloud\n",
    "import matplotlib.pyplot as plt\n",
    "\n",
    "# Your phrase count data (from your loop result)\n",
    "phrase_counts = {\n",
    "    \"not injured\": 38,\n",
    "    \"nothing was stolen\": 24,\n",
    "    \"were accounted for\": 22,\n",
    "    \"no further assistance was required\": 10,\n",
    "    \"parts were stolen\": 10,\n",
    "    \"was safe\": 4,\n",
    "    \"were reported stolen\": 3,\n",
    "    \"no injuries were reported\": 2,\n",
    "    \"no property stolen\": 1,\n",
    "    \"nothing was reported stolen\": 1,\n",
    "    \"no property was stolen\": 0\n",
    "}\n",
    "\n",
    "# Create a WordCloud object\n",
    "wordcloud = WordCloud(\n",
    "    width=800,\n",
    "    height=400,\n",
    "    background_color='white'\n",
    ").generate_from_frequencies(phrase_counts)\n",
    "\n",
    "# Display it using matplotlib\n",
    "plt.figure(figsize=(12, 6))\n",
    "plt.imshow(wordcloud, interpolation='bilinear')\n",
    "plt.axis(\"off\")\n",
    "plt.title(\"Phrase Cloud Based on Incident Reports\", fontsize=16)\n",
    "plt.show()\n"
   ]
  }
 ],
 "metadata": {
  "kernelspec": {
   "display_name": "base",
   "language": "python",
   "name": "python3"
  },
  "language_info": {
   "codemirror_mode": {
    "name": "ipython",
    "version": 3
   },
   "file_extension": ".py",
   "mimetype": "text/x-python",
   "name": "python",
   "nbconvert_exporter": "python",
   "pygments_lexer": "ipython3",
   "version": "3.12.9"
  }
 },
 "nbformat": 4,
 "nbformat_minor": 2
}
