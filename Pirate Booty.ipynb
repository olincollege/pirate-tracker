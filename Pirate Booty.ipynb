{
 "cells": [
  {
   "cell_type": "markdown",
   "metadata": {},
   "source": [
    "---\n",
    "title: Pirate Booty\n",
    "authors: Hong Zhang, Samuel Bloom\n",
    "---\n",
    "<hr>\n",
    "\n"
   ]
  },
  {
   "cell_type": "markdown",
   "metadata": {},
   "source": [
    "### Description ###\n",
    "This project takes all the pirate attacks over the course of a year and analyzes them based on location and description. Based on these attributes, we can decipher the results of many pirate attacks, which areas are most susceptible, and better understand what specifically drives pirates to steal certain materials.\n",
    "\n",
    "### Requirements ### \n",
    "Make sure to install all the required libraries from the `requirements.text` file."
   ]
  },
  {
   "cell_type": "markdown",
   "metadata": {},
   "source": [
    "```sh\n",
    "pip install -r ~/pirate-tracker/Home/requirements.txt\n",
    "```"
   ]
  },
  {
   "cell_type": "code",
   "execution_count": 3,
   "metadata": {},
   "outputs": [
    {
     "name": "stdout",
     "output_type": "stream",
     "text": [
      "\n",
      "Top 20 contextual phrases:\n",
      "\"the crew was not injured\": 36\n",
      "\"crew members were accounted for\": 20\n",
      "\"all crew members were accounted\": 19\n",
      "\"sighted in the engine room\": 17\n",
      "\"were sighted in the engine\": 16\n",
      "\"crew mustered to conduct a\": 15\n",
      "\"in the engine room the\": 15\n",
      "\"crew was not injured the\": 15\n",
      "\"all crew mustered to conduct\": 11\n",
      "\"and all crew mustered to\": 10\n",
      "\"all crew members were safe\": 10\n",
      "\"the engine room the master\": 9\n",
      "\"stolen the master reported the\": 9\n",
      "\"engine room the master raised\": 9\n",
      "\"was raised and all crew\": 9\n",
      "\"alarm was raised and crew\": 9\n",
      "\"raised and all crew mustered\": 9\n",
      "\"engine spare parts were stolen\": 8\n",
      "\"alarm and mustered the crew\": 8\n",
      "\"was not injured the master\": 8\n"
     ]
    }
   ],
   "source": [
    "from phrase_counter import extract_top_contextual_phrases\n",
    "\n",
    "df = extract_top_contextual_phrases(\"incident_descriptions.txt\")"
   ]
  },
  {
   "cell_type": "code",
   "execution_count": null,
   "metadata": {},
   "outputs": [
    {
     "ename": "",
     "evalue": "",
     "output_type": "error",
     "traceback": [
      "\u001b[1;31mRunning cells with 'base (Python 3.12.7)' requires the ipykernel package.\n",
      "\u001b[1;31mRun the following command to install 'ipykernel' into the Python environment. \n",
      "\u001b[1;31mCommand: 'conda install -n base ipykernel --update-deps --force-reinstall'"
     ]
    }
   ],
   "source": [
    "from wordcloud import WordCloud\n",
    "import matplotlib.pyplot as plt\n",
    "\n",
    "# Your phrase count data (from your loop result)\n",
    "phrase_counts = {\n",
    "    \"not injured\": 38,\n",
    "    \"nothing was stolen\": 24,\n",
    "    \"were accounted for\": 22,\n",
    "    \"no further assistance was required\": 10,\n",
    "    \"parts were stolen\": 10,\n",
    "    \"was safe\": 4,\n",
    "    \"were reported stolen\": 3,\n",
    "    \"no injuries were reported\": 2,\n",
    "    \"no property stolen\": 1,\n",
    "    \"nothing was reported stolen\": 1,\n",
    "    \"no property was stolen\": 0\n",
    "}\n",
    "\n",
    "# Create a WordCloud object\n",
    "wordcloud = WordCloud(\n",
    "    width=800,\n",
    "    height=400,\n",
    "    background_color='white'\n",
    ").generate_from_frequencies(phrase_counts)\n",
    "\n",
    "# Display it using matplotlib\n",
    "plt.figure(figsize=(12, 6))\n",
    "plt.imshow(wordcloud, interpolation='bilinear')\n",
    "plt.axis(\"off\")\n",
    "plt.title(\"Phrase Cloud Based on Incident Reports\", fontsize=16)\n",
    "plt.show()\n"
   ]
  }
 ],
 "metadata": {
  "kernelspec": {
   "display_name": "base",
   "language": "python",
   "name": "python3"
  },
  "language_info": {
   "codemirror_mode": {
    "name": "ipython",
    "version": 3
   },
   "file_extension": ".py",
   "mimetype": "text/x-python",
   "name": "python",
   "nbconvert_exporter": "python",
   "pygments_lexer": "ipython3",
   "version": "3.12.9"
  }
 },
 "nbformat": 4,
 "nbformat_minor": 2
}
