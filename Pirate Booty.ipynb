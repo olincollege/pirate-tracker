{
 "cells": [
  {
   "cell_type": "markdown",
   "metadata": {},
   "source": [
    "---\n",
    "title: Pirate Booty\n",
    "authors: Hong Zhang, Samuel Bloom\n",
    "---"
   ]
  },
  {
   "cell_type": "markdown",
   "metadata": {},
   "source": [
    "## **Introduction** ##\n",
    "<hr>\n",
    "This project takes all the pirate attacks over the course of a year and analyzes them based on location and description. Based on these attributes, we can decipher the results of many pirate attacks, which areas are most susceptible, and better understand what specifically drives pirates to steal certain materials.\n",
    "\n",
    "By using online resources (data found through APIs and PDFs), we can visualize the pirate attacks across the globe, what results typically spur from pirate attacks, and much of the nature of piracy. Using nearby port exports and imports, we can further understand what specifically pirates are stealing, and if they are related to many of the goods these ships are carrying.\n",
    "\n"
   ]
  },
  {
   "cell_type": "markdown",
   "metadata": {},
   "source": [
    "```{python}\n",
    "pip install -r ~/pirate-tracker/Home/requirements.txt\n",
    "```\n"
   ]
  },
  {
   "cell_type": "code",
   "execution_count": 2,
   "metadata": {},
   "outputs": [],
   "source": [
    "import geodatasets\n",
    "import geopandas\n",
    "import matplotlib\n",
    "import pandas\n",
    "import pdfplumber\n",
    "import regex"
   ]
  },
  {
   "cell_type": "markdown",
   "metadata": {},
   "source": [
    "Also, make sure to run the code below to complete functionality of the code:"
   ]
  },
  {
   "cell_type": "code",
   "execution_count": 3,
   "metadata": {},
   "outputs": [],
   "source": [
    "%load_ext autoreload\n",
    "%autoreload 2"
   ]
  },
  {
   "cell_type": "markdown",
   "metadata": {},
   "source": [
    "## **Methodology**\n",
    "<hr>"
   ]
  },
  {
   "cell_type": "markdown",
   "metadata": {},
   "source": [
    "### **Visualizing Pirate Attacks Across the Globe** ###\n",
    "Through the usage of online resources, we were able to find both an API that will allow us to collect information on various port data (exports and imports), and also found a PDF from online (https://www.recaap.org/) that provided us with information on pirate attacks over the course of the 2024 year. Given this information, we were able to use an online library, `fitz`, to help digest this information. This online library helps process text block by block, in favor a line by line solution. This is important because it allows us to help analyze the **description** of the function by testing different phrases against it (*a later problem*).\n",
    "\n",
    "By processing the data through a function that calls `fitz`, `regex`, and `pandas` - libraries of which digest text, analyze structure, and sort into dataframes respectively - we were provided with `pirate_locations.csv`. The columns of the CSV are as follows:\n",
    "\n",
    "* Index of Incident\n",
    "* Latitude\n",
    "* Longitude \n",
    "* Area Location\n",
    "\n",
    "Given this CSV file, of which contains **107 entries**, we can then store these dataframes in empty lists and run operations over said lists. For example, we had to prepare our latitude and longitude data through conversions of **DMS** format (direction, minute, seconds) to degrees, a value that is easier to process and plot. Through this conversion, and accessing an online library through a variety of online libraries - `Geopandas`, `Geodatasets`, `Shapely`, some of the previous libraries accessed (`regex`) - we were then able to visualize our specific pirate attack incidents over a world map. Given this same data, we had also specifically zoomed in on areas around Southeast Asia, a hotspot for real-world piracy for further context.\n",
    "\n",
    "**P.S. If you are interested in learning about what the specific functions do, look to the docstrings where each libraries usage is explained**\n",
    "\n"
   ]
  },
  {
   "cell_type": "markdown",
   "metadata": {},
   "source": [
    "### **Visualizing Phrases Associated with the Outcomes of Real-World Piracy** ###"
   ]
  },
  {
   "cell_type": "markdown",
   "metadata": {},
   "source": []
  },
  {
   "cell_type": "markdown",
   "metadata": {},
   "source": [
    "# **Results** #\n",
    "<hr>"
   ]
  },
  {
   "cell_type": "markdown",
   "metadata": {},
   "source": [
    "Given the completed functions, and libraries all downloaded/imported from `requirements.txt`, we can visualize all of our data:"
   ]
  },
  {
   "cell_type": "code",
   "execution_count": null,
   "metadata": {},
   "outputs": [],
   "source": []
  },
  {
   "cell_type": "markdown",
   "metadata": {},
   "source": [
    "# **Interpretation** #\n",
    "<hr>"
   ]
  }
 ],
 "metadata": {
  "kernelspec": {
   "display_name": "base",
   "language": "python",
   "name": "python3"
  },
  "language_info": {
   "codemirror_mode": {
    "name": "ipython",
    "version": 3
   },
   "file_extension": ".py",
   "mimetype": "text/x-python",
   "name": "python",
   "nbconvert_exporter": "python",
   "pygments_lexer": "ipython3",
   "version": "3.12.7"
  }
 },
 "nbformat": 4,
 "nbformat_minor": 2
}
