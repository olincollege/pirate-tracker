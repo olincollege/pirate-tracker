{
 "cells": [
  {
   "cell_type": "code",
   "execution_count": 3,
   "metadata": {},
   "outputs": [],
   "source": [
    "import matplotlib\n",
    "\n",
    "import matplotlib.pyplot as plt\n",
    "\n",
    "# Example data\n",
    "latitudes = [3.9325, 4.2, 2.95]\n",
    "longitudes = [103.12, 102.55, 101.7]\n",
    "weights = [1, 3, 5]\n",
    "\n",
    "plt.figure(figsize=(8, 6))\n",
    "scatter = plt.scatter(longitudes, latitudes, c=weights, cmap='hot', s=200)\n",
    "\n",
    "plt.colorbar(scatter, label='Incident Intensity')\n",
    "plt.xlabel('Longitude')\n",
    "plt.ylabel('Latitude')\n",
    "plt.title('Heatmap of Incidents (Scatter Style)')\n",
    "\n",
    "plt.grid(True)\n",
    "plt.savefig(\"heatmap.png\")  # Save the figure\n"
   ]
  }
 ],
 "metadata": {
  "kernelspec": {
   "display_name": "base",
   "language": "python",
   "name": "python3"
  },
  "language_info": {
   "codemirror_mode": {
    "name": "ipython",
    "version": 3
   },
   "file_extension": ".py",
   "mimetype": "text/x-python",
   "name": "python",
   "nbconvert_exporter": "python",
   "pygments_lexer": "ipython3",
   "version": "3.12.7"
  }
 },
 "nbformat": 4,
 "nbformat_minor": 2
}
